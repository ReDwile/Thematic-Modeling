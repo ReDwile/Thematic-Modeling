{
 "cells": [
  {
   "cell_type": "code",
   "execution_count": null,
   "metadata": {},
   "outputs": [],
   "source": [
    "#Тематическое моделирование\n",
    "\n",
    "#Наша цель выбрать какие-нибудь интересные аудитории и проанализировать каким именно контентом они интересуются. \n",
    "#На основе их интересов нужно попробовать нарисовать профили пользователей.\n"
   ]
  },
  {
   "cell_type": "code",
   "execution_count": null,
   "metadata": {},
   "outputs": [],
   "source": [
    "#Паблик 1: https://vk.com/neewschool\n",
    "#Паблик 2: https://vk.com/old_school_rus_rap\n",
    "#Паблик 3: https://vk.com/official_guf_zm\n",
    "#Паблик 4: https://vk.com/gonefan\n",
    "#Паблик 5: https://vk.com/benzogang_tape\n",
    "\n",
    "#Мы взяли 5 пабликов вк. Первый - фанаты новой школы репа, второй - старой. Третий - фанаты Гуфа (артист старой\n",
    "#школы). Четвертый - GoneFludd (представитель новой школы репа). Пятый - Big Baby Tape (новая школа)\n",
    "#Нам стало интересно, в чем их сходство и различие.\n",
    "#Можно ли составить портрет фаната старой школы репа и новой?"
   ]
  },
  {
   "cell_type": "code",
   "execution_count": 18,
   "metadata": {},
   "outputs": [],
   "source": [
    "import pickle\n",
    "import requests\n",
    "import time \n",
    "import numpy as np"
   ]
  },
  {
   "cell_type": "code",
   "execution_count": 32,
   "metadata": {},
   "outputs": [],
   "source": [
    "# версия используемого API\n",
    "version = '5.103' \n",
    "\n",
    "# подгружаем токен\n",
    "with open('token.txt') as f:\n",
    "    token = f.read()\n",
    "\n",
    "#Выдает информацию о пользователе по методу\n",
    "def vk_download(method, parameters):\n",
    "    url = 'https://api.vk.com/method/' + method + '?' + parameters + '&access_token=' + str(token) + '&v=' + version\n",
    "    response = requests.get(url) \n",
    "    infa = response.json()\n",
    "    return infa"
   ]
  },
  {
   "cell_type": "code",
   "execution_count": 35,
   "metadata": {},
   "outputs": [],
   "source": [
    "#Наш датасет\n",
    "data = {\n",
    "    'NewSchool': 'neewschool',\n",
    "    'GoneFludd': 'gonefan',\n",
    "    'BigBabyTape': 'benzogang_tape',\n",
    "    \n",
    "    'OldSchool': 'old_school_rus_rap',\n",
    "    'Guf': 'official_guf_zm'\n",
    "}"
   ]
  },
  {
   "cell_type": "code",
   "execution_count": 36,
   "metadata": {},
   "outputs": [
    {
     "name": "stdout",
     "output_type": "stream",
     "text": [
      "Узнаем, сколько в группе человек\n",
      "В NewSchool - 655935 человек\n",
      "В GoneFludd - 24334 человек\n",
      "В BigBabyTape - 588062 человек\n",
      "В OldSchool - 33991 человек\n",
      "В Guf - 303013 человек\n"
     ]
    }
   ],
   "source": [
    "print('Узнаем, сколько в группе человек')\n",
    "for key in data.keys():\n",
    "    cur_id = data[key]\n",
    "    cur_infa = vk_download('groups.getMembers', 'group_id=' + str(cur_id))\n",
    "    kol = cur_infa['response']['count']\n",
    "    print(f'В {key} - {kol} человек')"
   ]
  },
  {
   "cell_type": "code",
   "execution_count": 37,
   "metadata": {},
   "outputs": [
    {
     "name": "stdout",
     "output_type": "stream",
     "text": [
      "Качаю группу NewSchool\n",
      "Качаю группу GoneFludd\n",
      "Качаю группу BigBabyTape\n",
      "Качаю группу OldSchool\n",
      "Качаю группу Guf\n",
      "Wall time: 18.8 s\n"
     ]
    }
   ],
   "source": [
    "%%time\n",
    "#Выдает массив с 3000 id людей из группы\n",
    "def group_members_download(cur_id):\n",
    "    \n",
    "    # Сколько всего в группе людей\n",
    "    cur_infa = vk_download('groups.getMembers', 'group_id=' + str(cur_id))\n",
    "    \n",
    "    # стартовая точка\n",
    "    start_offset = max(0, cur_infa['response']['count'] - 6000)\n",
    "\n",
    "    infa = [] # сюда буду сохранять людей\n",
    "\n",
    "    # качаем по 1000 штук по циклу\n",
    "    for offset in range(start_offset, start_offset + 6000, 1000):\n",
    "\n",
    "        time.sleep(0.4) # вк согласен работать 3 раза в секунду, \n",
    "                        # эта строка нужна, чтобы он не ругался \n",
    "\n",
    "        cur_infa = vk_download('groups.getMembers', \n",
    "                    'group_id=' + str(cur_id) + '&offset=' + str(offset))\n",
    "\n",
    "        infa.extend(cur_infa['response']['items'])\n",
    "    return infa\n",
    "\n",
    "members = {} # сюда будем класть всех членов групп по очереди\n",
    "\n",
    "#Закинем в members id пользователей каждой группы\n",
    "for key, value in data.items():\n",
    "    print('Качаю группу', key)\n",
    "    infa = group_members_download(value)\n",
    "    members[key] = infa "
   ]
  },
  {
   "cell_type": "code",
   "execution_count": 38,
   "metadata": {},
   "outputs": [],
   "source": [
    "#Функция для очистки выборки\n",
    "def filter_members(memes_id):\n",
    "    \n",
    "    # сделали id текстом\n",
    "    memes_id_text = [str(item) for item in memes_id]\n",
    "    \n",
    "    clean_memes_id = [] # список для хорших id \n",
    "    \n",
    "    # качаем информацию кусочками по 300 штук\n",
    "    for i in range(len(memes_id_text)//300):\n",
    "                \n",
    "        time.sleep(0.4) # немного подождали, чтобы вк нас не банил\n",
    "        \n",
    "                                                         # взяли текущие 300 человек из списка\n",
    "        infa = vk_download('users.get','user_ids=' + ','.join(memes_id_text[i*300:(i+1)*300]) + '&fields=last_seen')\n",
    " \n",
    "        \n",
    "\n",
    "        # чистим пользователей\n",
    "        for item in infa['response']:\n",
    "\n",
    "            try: # попробуй сделать вот это\n",
    "\n",
    "                # если пользователь не удален, не приватный, а ещё недавно был в сети \n",
    "                if ('deactivated' not in item) and \\\n",
    "                   (item['is_closed'] == False) and \\\n",
    "                   (item['last_seen']['time'] >= time.time() - 30*24*60*60):\n",
    "\n",
    "                            clean_memes_id.append(item) # запоминаем его \n",
    "\n",
    "            except:   # если питон говорит, что ошибся\n",
    "                pass    \n",
    "    return clean_memes_id # вернули из функции чистые id"
   ]
  },
  {
   "cell_type": "code",
   "execution_count": 39,
   "metadata": {},
   "outputs": [
    {
     "name": "stdout",
     "output_type": "stream",
     "text": [
      "Фильтрую id из группы - NewSchool\n",
      "Фильтрую id из группы - GoneFludd\n",
      "Фильтрую id из группы - BigBabyTape\n",
      "Фильтрую id из группы - OldSchool\n",
      "Фильтрую id из группы - Guf\n",
      "Wall time: 1min 10s\n"
     ]
    }
   ],
   "source": [
    "%%time\n",
    "clean_members = {} # сюда будем класть всех прочищеных членов групп по очереди\n",
    "\n",
    "for key, value in members.items():\n",
    "    print(f'Фильтрую id из группы - {key}')\n",
    "    infa = filter_members(value)\n",
    "    clean_members[key] = infa\n",
    "    \n",
    "del members"
   ]
  },
  {
   "cell_type": "code",
   "execution_count": 40,
   "metadata": {},
   "outputs": [],
   "source": [
    "#Сохраняем наш массив очищенных id\n",
    "with open('group_clean_members.pickle', 'wb') as f:\n",
    "    pickle.dump(clean_members, f)"
   ]
  },
  {
   "cell_type": "code",
   "execution_count": null,
   "metadata": {},
   "outputs": [],
   "source": []
  },
  {
   "cell_type": "code",
   "execution_count": 62,
   "metadata": {},
   "outputs": [],
   "source": [
    "#clean_members - словарь, содержащий в ключах названия групп, а значения - массив id очищенных людей\n",
    "#он уже сохранен в памяти, подгрузить можно следующим образом\n",
    "\n",
    "# Подгрузить данные из файлика можно вот так: \n",
    "with open('group_clean_members.pickle', 'rb') as f:\n",
    "    clean_members = pickle.load(f)"
   ]
  },
  {
   "cell_type": "code",
   "execution_count": 64,
   "metadata": {},
   "outputs": [],
   "source": [
    "clean_members['BigBabyTape'] = clean_members['BigBabyTape'][500:2000]"
   ]
  },
  {
   "cell_type": "code",
   "execution_count": 65,
   "metadata": {},
   "outputs": [
    {
     "name": "stdout",
     "output_type": "stream",
     "text": [
      "clean_members\n",
      "Type - <class 'dict'>\n",
      "Keys: dict_keys(['NewSchool', 'GoneFludd', 'BigBabyTape', 'OldSchool', 'Guf'])\n",
      "В группе NewSchool осталось 2768 участников\n",
      "В группе GoneFludd осталось 2430 участников\n",
      "В группе BigBabyTape осталось 1500 участников\n",
      "В группе OldSchool осталось 2668 участников\n",
      "В группе Guf осталось 2357 участников\n"
     ]
    }
   ],
   "source": [
    "print('clean_members')\n",
    "print(f'Type - {type(clean_members)}')\n",
    "print(f'Keys: {clean_members.keys()}')\n",
    "for key in clean_members.keys():\n",
    "    k = len(clean_members[key])\n",
    "    print(f'В группе {key} осталось {k} участников')"
   ]
  },
  {
   "cell_type": "code",
   "execution_count": 48,
   "metadata": {},
   "outputs": [],
   "source": [
    "#Выдает стену пользователя по id\n",
    "def get_wall(user_id):\n",
    "    wall = vk_download('wall.get', 'owner_id='+str(user_id)+'&count=100')\n",
    "    \n",
    "    try:\n",
    "        # распаковали её\n",
    "        wall = wall['response']['items']\n",
    "        post_texts = [cur['text'] for cur in wall]\n",
    "        repost_texts = [cur['copy_history'][0]['text'] if 'copy_history' in cur else '' for cur in wall]\n",
    "\n",
    "        # соединили все посты и репосты в один длинный текст\n",
    "        wall_text = ' '.join(post_texts) + ' '.join(repost_texts)\n",
    "        return wall_text\n",
    "    except:\n",
    "        print(f'Возникла ошибка на пользователе {user_id}\\nСтена:')\n",
    "        print(wall)\n",
    "        print()"
   ]
  },
  {
   "cell_type": "code",
   "execution_count": null,
   "metadata": {},
   "outputs": [],
   "source": []
  },
  {
   "cell_type": "code",
   "execution_count": null,
   "metadata": {},
   "outputs": [],
   "source": [
    "#Теперь скачаем все стены каждого паблика\n",
    "#Будем скачивать каждый паблик в новой строчке, так как можно за раз скачать всего 5000 стен, а этого хватает\n",
    "#на 1 паблик (некоторые стены выдают None, некоторые пустую строку и тд Их мы выкидываем из выборки)"
   ]
  },
  {
   "cell_type": "code",
   "execution_count": null,
   "metadata": {},
   "outputs": [],
   "source": [
    "%%time\n",
    "#Скачаем стены паблика NewSchool\n",
    "key = 'NewSchool'\n",
    "value = clean_members[key]\n",
    "print('Качаю стены участников из группы', key)    \n",
    "wall_members = [] # сюда будем сохранять стенки\n",
    "    \n",
    "cur_sample = np.array(value)\n",
    "    \n",
    "for item in cur_sample:\n",
    "    \n",
    "    time.sleep(0.4) # отдыхаем между запросами \n",
    "        \n",
    "    # попробуй, если код упал, напечатай мне id пользователя\n",
    "    try:\n",
    "            # распаковываем стену пользователя \n",
    "        wall_text = get_wall(item['id'])\n",
    "        \n",
    "        if wall_text != None and len(wall_text) > 10:\n",
    "            cur_item = {'group': key, 'id': item['id'], 'wall': wall_text}\n",
    "\n",
    "            wall_members.append(cur_item)\n",
    "    except:\n",
    "        print('Ошибка!')\n",
    "        print('Напиши get_wall(id)')\n",
    "\n",
    "    # сохраняем итоговые тексты стенок для текущего сообщества \n",
    "with open('parsing_wall/' + key + '.pickle', 'wb') as f:\n",
    "    pickle.dump(wall_members, f)"
   ]
  },
  {
   "cell_type": "code",
   "execution_count": null,
   "metadata": {},
   "outputs": [],
   "source": [
    "%%time\n",
    "#Скачаем стены паблика GoneFludd\n",
    "key = 'GoneFludd'\n",
    "value = clean_members[key]\n",
    "print('Качаю стены участников из группы', key)    \n",
    "wall_members = [] # сюда будем сохранять стенки\n",
    "    \n",
    "cur_sample = np.array(value)\n",
    "    \n",
    "for item in cur_sample:\n",
    "    \n",
    "    time.sleep(0.4) # отдыхаем между запросами \n",
    "        \n",
    "    # попробуй, если код упал, напечатай мне id пользователя\n",
    "    try:\n",
    "            # распаковываем стену пользователя \n",
    "        wall_text = get_wall(item['id'])\n",
    "        \n",
    "        if wall_text != None and len(wall_text) > 10:\n",
    "            cur_item = {'group': key, 'id': item['id'], 'wall': wall_text}\n",
    "\n",
    "            wall_members.append(cur_item)\n",
    "    except:\n",
    "        print('Ошибка!')\n",
    "        print('Напиши get_wall(id)')\n",
    "\n",
    "    # сохраняем итоговые тексты стенок для текущего сообщества \n",
    "with open('parsing_wall/' + key + '.pickle', 'wb') as f:\n",
    "    pickle.dump(wall_members, f)"
   ]
  },
  {
   "cell_type": "code",
   "execution_count": null,
   "metadata": {},
   "outputs": [],
   "source": [
    "%%time\n",
    "#Скачаем стены паблика OldSchool\n",
    "key = 'OldSchool'\n",
    "value = clean_members[key]\n",
    "print('Качаю стены участников из группы', key)    \n",
    "wall_members = [] # сюда будем сохранять стенки\n",
    "    \n",
    "cur_sample = np.array(value)\n",
    "    \n",
    "for item in cur_sample:\n",
    "    \n",
    "    time.sleep(0.4) # отдыхаем между запросами \n",
    "        \n",
    "    # попробуй, если код упал, напечатай мне id пользователя\n",
    "    try:\n",
    "            # распаковываем стену пользователя \n",
    "        wall_text = get_wall(item['id'])\n",
    "        \n",
    "        if wall_text != None and len(wall_text) > 10:\n",
    "            cur_item = {'group': key, 'id': item['id'], 'wall': wall_text}\n",
    "\n",
    "            wall_members.append(cur_item)\n",
    "    except:\n",
    "        print('Ошибка!')\n",
    "        print('Напиши get_wall(id)')\n",
    "\n",
    "    # сохраняем итоговые тексты стенок для текущего сообщества \n",
    "with open('parsing_wall/' + key + '.pickle', 'wb') as f:\n",
    "    pickle.dump(wall_members, f)"
   ]
  },
  {
   "cell_type": "code",
   "execution_count": null,
   "metadata": {},
   "outputs": [],
   "source": [
    "%%time\n",
    "#Скачаем стены паблика Guf\n",
    "key = 'Guf'\n",
    "value = clean_members[key]\n",
    "print('Качаю стены участников из группы', key)    \n",
    "wall_members = [] # сюда будем сохранять стенки\n",
    "    \n",
    "cur_sample = np.array(value)\n",
    "    \n",
    "for item in cur_sample:\n",
    "    \n",
    "    time.sleep(0.4) # отдыхаем между запросами \n",
    "        \n",
    "    # попробуй, если код упал, напечатай мне id пользователя\n",
    "    try:\n",
    "            # распаковываем стену пользователя \n",
    "        wall_text = get_wall(item['id'])\n",
    "        \n",
    "        if wall_text != None and len(wall_text) > 10:\n",
    "            cur_item = {'group': key, 'id': item['id'], 'wall': wall_text}\n",
    "\n",
    "            wall_members.append(cur_item)\n",
    "    except:\n",
    "        print('Ошибка!')\n",
    "        print('Напиши get_wall(id)')\n",
    "\n",
    "    # сохраняем итоговые тексты стенок для текущего сообщества \n",
    "with open('parsing_wall/' + key + '.pickle', 'wb') as f:\n",
    "    pickle.dump(wall_members, f)"
   ]
  },
  {
   "cell_type": "code",
   "execution_count": 66,
   "metadata": {},
   "outputs": [
    {
     "name": "stdout",
     "output_type": "stream",
     "text": [
      "Качаю стены участников из группы BigBabyTape\n",
      "Wall time: 15min 17s\n"
     ]
    }
   ],
   "source": [
    "%%time\n",
    "#Скачаем стены паблика Guf\n",
    "key = 'BigBabyTape'\n",
    "value = clean_members[key]\n",
    "print('Качаю стены участников из группы', key)    \n",
    "wall_members = [] # сюда будем сохранять стенки\n",
    "    \n",
    "cur_sample = np.array(value)\n",
    "    \n",
    "for item in cur_sample:\n",
    "    \n",
    "    time.sleep(0.4) # отдыхаем между запросами \n",
    "        \n",
    "    # попробуй, если код упал, напечатай мне id пользователя\n",
    "    try:\n",
    "            # распаковываем стену пользователя \n",
    "        wall_text = get_wall(item['id'])\n",
    "        \n",
    "        if wall_text != None and len(wall_text) > 10:\n",
    "            cur_item = {'group': key, 'id': item['id'], 'wall': wall_text}\n",
    "\n",
    "            wall_members.append(cur_item)\n",
    "    except:\n",
    "        print('Ошибка!')\n",
    "        print('Напиши get_wall(id)')\n",
    "\n",
    "    # сохраняем итоговые тексты стенок для текущего сообщества \n",
    "with open('parsing_wall/' + key + '.pickle', 'wb') as f:\n",
    "    pickle.dump(wall_members, f)"
   ]
  },
  {
   "cell_type": "code",
   "execution_count": null,
   "metadata": {},
   "outputs": [],
   "source": []
  },
  {
   "cell_type": "code",
   "execution_count": null,
   "metadata": {},
   "outputs": [],
   "source": [
    "#Теперь приступим к модели"
   ]
  },
  {
   "cell_type": "code",
   "execution_count": 79,
   "metadata": {},
   "outputs": [],
   "source": [
    "import pandas as pd\n",
    "from pymystem3 import Mystem\n",
    "\n",
    "# Пакеты для графииков\n",
    "import matplotlib\n",
    "import matplotlib.pyplot as plt                             \n",
    "import seaborn as sns\n",
    "plt.style.use('ggplot')   # Правильный стиль графиков   \n",
    "\n",
    "%matplotlib inline"
   ]
  },
  {
   "cell_type": "code",
   "execution_count": 80,
   "metadata": {},
   "outputs": [],
   "source": [
    "#Построим графики и посмотрим, какое количество слов в скачанных данных\n",
    "#По x - количество слов в посте, по y - количество повторений"
   ]
  },
  {
   "cell_type": "code",
   "execution_count": 81,
   "metadata": {},
   "outputs": [
    {
     "name": "stdout",
     "output_type": "stream",
     "text": [
      "Кол-во: 2773\n",
      "NewSchool\n",
      "Оставшееся кол-во постов: 1129\n"
     ]
    },
    {
     "data": {
      "image/png": "[encoded data removed]",
      "text/plain": [
       "<Figure size 432x288 with 1 Axes>"
      ]
     },
     "metadata": {
      "needs_background": "light"
     },
     "output_type": "display_data"
    }
   ],
   "source": [
    "#Для NewSchool\n",
    "# Подгрузим данные из файлика \n",
    "with open('parsing_wall/NewSchool.pickle', 'rb') as f:\n",
    "    wall_newschool = pickle.load(f)\n",
    "    \n",
    "print(f'Кол-во: {len(wall_newschool)}')\n",
    "    \n",
    "text_len = [len(item['wall']) for item in wall_newschool if item['wall'] != None]\n",
    "print('NewSchool')\n",
    "plt.hist(text_len);\n",
    "\n",
    "#Срежем тексты для удобной работы с ними\n",
    "q = np.quantile(text_len, 0.95)\n",
    "wall_newschool = [item['wall'] for item in wall_newschool if item['wall'] != None and 10 < len(item['wall']) < q]\n",
    "print(f'Оставшееся кол-во постов: {len(wall_newschool)}')"
   ]
  },
  {
   "cell_type": "code",
   "execution_count": 82,
   "metadata": {},
   "outputs": [
    {
     "name": "stdout",
     "output_type": "stream",
     "text": [
      "Кол-во: 2428\n",
      "GoneFludd\n",
      "Оставшееся кол-во постов: 1358\n"
     ]
    },
    {
     "data": {
      "image/png": "[encoded data removed]",
      "text/plain": [
       "<Figure size 432x288 with 1 Axes>"
      ]
     },
     "metadata": {
      "needs_background": "light"
     },
     "output_type": "display_data"
    }
   ],
   "source": [
    "#Для GoneFludd\n",
    "# Подгрузим данные из файлика \n",
    "with open('parsing_wall/GoneFludd.pickle', 'rb') as f:\n",
    "    wall_gonefludd = pickle.load(f)\n",
    "    \n",
    "print(f'Кол-во: {len(wall_gonefludd)}')\n",
    "    \n",
    "text_len = [len(item['wall']) for item in wall_gonefludd if item['wall'] != None]\n",
    "print('GoneFludd')\n",
    "plt.hist(text_len);\n",
    "\n",
    "#Срежем тексты для удобной работы с ними\n",
    "q = np.quantile(text_len, 0.95)\n",
    "wall_gonefludd = [item['wall'] for item in wall_gonefludd if item['wall'] != None and 100 < len(item['wall']) < q]\n",
    "print(f'Оставшееся кол-во постов: {len(wall_gonefludd)}')"
   ]
  },
  {
   "cell_type": "code",
   "execution_count": 83,
   "metadata": {},
   "outputs": [
    {
     "name": "stdout",
     "output_type": "stream",
     "text": [
      "Кол-во: 2667\n",
      "OldSchool\n",
      "Оставшееся кол-во постов: 1710\n"
     ]
    },
    {
     "data": {
      "image/png": "[encoded data removed]",
      "text/plain": [
       "<Figure size 432x288 with 1 Axes>"
      ]
     },
     "metadata": {
      "needs_background": "light"
     },
     "output_type": "display_data"
    }
   ],
   "source": [
    "#Для OldSchool\n",
    "# Подгрузим данные из файлика \n",
    "with open('parsing_wall/OldSchool.pickle', 'rb') as f:\n",
    "    wall_oldschool = pickle.load(f)\n",
    "    \n",
    "print(f'Кол-во: {len(wall_oldschool)}')\n",
    "\n",
    "text_len = [len(item['wall']) for item in wall_oldschool if item['wall'] != None]\n",
    "print('OldSchool')\n",
    "plt.hist(text_len);\n",
    "\n",
    "#Срежем тексты для удобной работы с ними\n",
    "q = np.quantile(text_len, 0.95)\n",
    "wall_oldschool = [item['wall'] for item in wall_oldschool if item['wall'] != None and 100 < len(item['wall']) < q]\n",
    "print(f'Оставшееся кол-во постов: {len(wall_oldschool)}')"
   ]
  },
  {
   "cell_type": "code",
   "execution_count": 84,
   "metadata": {},
   "outputs": [
    {
     "name": "stdout",
     "output_type": "stream",
     "text": [
      "Кол-во: 1750\n",
      "Guf\n",
      "Оставшееся кол-во постов: 1369\n"
     ]
    },
    {
     "data": {
      "image/png": "[encoded data removed]",
      "text/plain": [
       "<Figure size 432x288 with 1 Axes>"
      ]
     },
     "metadata": {
      "needs_background": "light"
     },
     "output_type": "display_data"
    }
   ],
   "source": [
    "#Для Guf\n",
    "# Подгрузим данные из файлика \n",
    "with open('parsing_wall/Guf.pickle', 'rb') as f:\n",
    "    wall_guf = pickle.load(f)\n",
    "    \n",
    "print(f'Кол-во: {len(wall_guf)}')\n",
    "    \n",
    "text_len = [len(item['wall']) for item in wall_guf]\n",
    "print('Guf')\n",
    "plt.hist(text_len);\n",
    "\n",
    "#Срежем тексты для удобной работы с ними\n",
    "q = np.quantile(text_len, 0.95)\n",
    "wall_guf = [item['wall'] for item in wall_guf if 100 < len(item['wall']) < q]\n",
    "print(f'Оставшееся кол-во постов: {len(wall_guf)}')"
   ]
  },
  {
   "cell_type": "code",
   "execution_count": 85,
   "metadata": {},
   "outputs": [
    {
     "name": "stdout",
     "output_type": "stream",
     "text": [
      "Кол-во: 833\n",
      "BigBabyTape\n",
      "Оставшееся кол-во постов: 507\n"
     ]
    },
    {
     "data": {
      "image/png": "[encoded data removed]",
      "text/plain": [
       "<Figure size 432x288 with 1 Axes>"
      ]
     },
     "metadata": {
      "needs_background": "light"
     },
     "output_type": "display_data"
    }
   ],
   "source": [
    "#Для Guf\n",
    "# Подгрузим данные из файлика \n",
    "with open('parsing_wall/BigBabyTape.pickle', 'rb') as f:\n",
    "    wall_bigbabytape = pickle.load(f)\n",
    "    \n",
    "print(f'Кол-во: {len(wall_bigbabytape)}')\n",
    "    \n",
    "text_len = [len(item['wall']) for item in wall_bigbabytape]\n",
    "print('BigBabyTape')\n",
    "plt.hist(text_len);\n",
    "\n",
    "#Срежем тексты для удобной работы с ними\n",
    "q = np.quantile(text_len, 0.95)\n",
    "wall_bigbabytape = [item['wall'] for item in wall_bigbabytape if 100 < len(item['wall']) < q]\n",
    "print(f'Оставшееся кол-во постов: {len(wall_bigbabytape)}')"
   ]
  },
  {
   "cell_type": "code",
   "execution_count": 86,
   "metadata": {},
   "outputs": [],
   "source": [
    "del text_len"
   ]
  },
  {
   "cell_type": "code",
   "execution_count": 88,
   "metadata": {},
   "outputs": [
    {
     "name": "stdout",
     "output_type": "stream",
     "text": [
      "В группе NewSchool осталось 1129 участников\n",
      "В группе GoneFludd осталось 1358 участников\n",
      "В группе BigBabyTape осталось 507 участников\n",
      "\n",
      "В группе OldSchool осталось 1710 участников\n",
      "В группе Guf осталось 1369 участников\n",
      "\n",
      "Всего стен для анализа: 6073\n"
     ]
    }
   ],
   "source": [
    "print(f'В группе NewSchool осталось {len(wall_newschool)} участников')\n",
    "print(f'В группе GoneFludd осталось {len(wall_gonefludd)} участников')\n",
    "print(f'В группе BigBabyTape осталось {len(wall_bigbabytape)} участников')\n",
    "print()\n",
    "print(f'В группе OldSchool осталось {len(wall_oldschool)} участников')\n",
    "print(f'В группе Guf осталось {len(wall_guf)} участников')\n",
    "print()\n",
    "s = len(wall_newschool) + len(wall_gonefludd) + len(wall_oldschool) + len(wall_guf) + len(wall_bigbabytape)\n",
    "print(f'Всего стен для анализа: {s}')"
   ]
  },
  {
   "cell_type": "code",
   "execution_count": 89,
   "metadata": {},
   "outputs": [
    {
     "name": "stdout",
     "output_type": "stream",
     "text": [
      "В выборке NewSchool теперь 2994 стен\n",
      "В выборке OldSchool теперь 1710 стен\n"
     ]
    }
   ],
   "source": [
    "newschool = wall_newschool + wall_gonefludd + wall_bigbabytape\n",
    "print(f'В выборке NewSchool теперь {len(newschool)} стен')\n",
    "\n",
    "oldschool = wall_oldschool + wall_guf\n",
    "print(f'В выборке OldSchool теперь {len(wall_oldschool)} стен')"
   ]
  },
  {
   "cell_type": "code",
   "execution_count": 90,
   "metadata": {},
   "outputs": [],
   "source": [
    "del wall_gonefludd\n",
    "del wall_bigbabytape\n",
    "del wall_guf\n",
    "del wall_newschool\n",
    "del wall_oldschool"
   ]
  },
  {
   "cell_type": "code",
   "execution_count": 91,
   "metadata": {},
   "outputs": [
    {
     "ename": "OSError",
     "evalue": "[Errno 28] No space left on device",
     "output_type": "error",
     "traceback": [
      "\u001b[1;31m---------------------------------------------------------------------------\u001b[0m",
      "\u001b[1;31mOSError\u001b[0m                                   Traceback (most recent call last)",
      "\u001b[1;32m<ipython-input-91-6a114d433563>\u001b[0m in \u001b[0;36m<module>\u001b[1;34m\u001b[0m\n\u001b[0;32m      4\u001b[0m \u001b[1;33m\u001b[0m\u001b[0m\n\u001b[0;32m      5\u001b[0m \u001b[1;32mwith\u001b[0m \u001b[0mopen\u001b[0m\u001b[1;33m(\u001b[0m\u001b[1;34m'oldchool.pickle'\u001b[0m\u001b[1;33m,\u001b[0m \u001b[1;34m'wb'\u001b[0m\u001b[1;33m)\u001b[0m \u001b[1;32mas\u001b[0m \u001b[0mf\u001b[0m\u001b[1;33m:\u001b[0m\u001b[1;33m\u001b[0m\u001b[1;33m\u001b[0m\u001b[0m\n\u001b[1;32m----> 6\u001b[1;33m     \u001b[0mpickle\u001b[0m\u001b[1;33m.\u001b[0m\u001b[0mdump\u001b[0m\u001b[1;33m(\u001b[0m\u001b[0moldschool\u001b[0m\u001b[1;33m,\u001b[0m \u001b[0mf\u001b[0m\u001b[1;33m)\u001b[0m\u001b[1;33m\u001b[0m\u001b[1;33m\u001b[0m\u001b[0m\n\u001b[0m",
      "\u001b[1;31mOSError\u001b[0m: [Errno 28] No space left on device"
     ]
    }
   ],
   "source": [
    "#Сохраним наши данные\n",
    "with open('newschool.pickle', 'wb') as f:\n",
    "    pickle.dump(newschool, f)\n",
    "    \n",
    "with open('oldchool.pickle', 'wb') as f:\n",
    "    pickle.dump(oldschool, f)"
   ]
  },
  {
   "cell_type": "code",
   "execution_count": null,
   "metadata": {},
   "outputs": [],
   "source": []
  },
  {
   "cell_type": "code",
   "execution_count": null,
   "metadata": {},
   "outputs": [],
   "source": [
    "#Очистим наши данные\n",
    "with open('newschool.pickle', 'rb') as f:\n",
    "    newschool = pickle.load(f)\n",
    "    \n",
    "with open('oldschool.pickle', 'rb') as f:\n",
    "    oldschool = pickle.load(f)"
   ]
  },
  {
   "cell_type": "code",
   "execution_count": 70,
   "metadata": {},
   "outputs": [],
   "source": [
    "#Выкинем пробелы и пунктуацию с наших данных\n",
    "m = Mystem(entire_input=False)"
   ]
  },
  {
   "cell_type": "code",
   "execution_count": 71,
   "metadata": {},
   "outputs": [
    {
     "name": "stdout",
     "output_type": "stream",
     "text": [
      "Очищаем NewSchool\n"
     ]
    },
    {
     "ename": "RuntimeError",
     "evalue": "Problem has been occured. Current state:\ntext:\nb'888 '\nout:\nb''",
     "output_type": "error",
     "traceback": [
      "\u001b[1;31m---------------------------------------------------------------------------\u001b[0m",
      "\u001b[1;31mJSONDecodeError\u001b[0m                           Traceback (most recent call last)",
      "\u001b[1;32m~\\Anaconda3\\lib\\site-packages\\pymystem3\\mystem.py\u001b[0m in \u001b[0;36m_analyze_impl\u001b[1;34m(self, text)\u001b[0m\n\u001b[0;32m    316\u001b[0m                 \u001b[1;31m#obj = json.loads(out)\u001b[0m\u001b[1;33m\u001b[0m\u001b[1;33m\u001b[0m\u001b[1;33m\u001b[0m\u001b[0m\n\u001b[1;32m--> 317\u001b[1;33m                 \u001b[0mobj\u001b[0m \u001b[1;33m=\u001b[0m \u001b[0mjson\u001b[0m\u001b[1;33m.\u001b[0m\u001b[0mloads\u001b[0m\u001b[1;33m(\u001b[0m\u001b[0mout\u001b[0m\u001b[1;33m.\u001b[0m\u001b[0mdecode\u001b[0m\u001b[1;33m(\u001b[0m\u001b[1;34m'utf-8'\u001b[0m\u001b[1;33m)\u001b[0m\u001b[1;33m)\u001b[0m\u001b[1;33m\u001b[0m\u001b[1;33m\u001b[0m\u001b[0m\n\u001b[0m\u001b[0;32m    318\u001b[0m             \u001b[1;32mexcept\u001b[0m \u001b[1;33m(\u001b[0m\u001b[0mIOError\u001b[0m\u001b[1;33m,\u001b[0m \u001b[0mValueError\u001b[0m\u001b[1;33m)\u001b[0m\u001b[1;33m:\u001b[0m\u001b[1;33m\u001b[0m\u001b[1;33m\u001b[0m\u001b[0m\n",
      "\u001b[1;32m~\\Anaconda3\\lib\\json\\__init__.py\u001b[0m in \u001b[0;36mloads\u001b[1;34m(s, encoding, cls, object_hook, parse_float, parse_int, parse_constant, object_pairs_hook, **kw)\u001b[0m\n\u001b[0;32m    347\u001b[0m             parse_constant is None and object_pairs_hook is None and not kw):\n\u001b[1;32m--> 348\u001b[1;33m         \u001b[1;32mreturn\u001b[0m \u001b[0m_default_decoder\u001b[0m\u001b[1;33m.\u001b[0m\u001b[0mdecode\u001b[0m\u001b[1;33m(\u001b[0m\u001b[0ms\u001b[0m\u001b[1;33m)\u001b[0m\u001b[1;33m\u001b[0m\u001b[1;33m\u001b[0m\u001b[0m\n\u001b[0m\u001b[0;32m    349\u001b[0m     \u001b[1;32mif\u001b[0m \u001b[0mcls\u001b[0m \u001b[1;32mis\u001b[0m \u001b[1;32mNone\u001b[0m\u001b[1;33m:\u001b[0m\u001b[1;33m\u001b[0m\u001b[1;33m\u001b[0m\u001b[0m\n",
      "\u001b[1;32m~\\Anaconda3\\lib\\json\\decoder.py\u001b[0m in \u001b[0;36mdecode\u001b[1;34m(self, s, _w)\u001b[0m\n\u001b[0;32m    336\u001b[0m         \"\"\"\n\u001b[1;32m--> 337\u001b[1;33m         \u001b[0mobj\u001b[0m\u001b[1;33m,\u001b[0m \u001b[0mend\u001b[0m \u001b[1;33m=\u001b[0m \u001b[0mself\u001b[0m\u001b[1;33m.\u001b[0m\u001b[0mraw_decode\u001b[0m\u001b[1;33m(\u001b[0m\u001b[0ms\u001b[0m\u001b[1;33m,\u001b[0m \u001b[0midx\u001b[0m\u001b[1;33m=\u001b[0m\u001b[0m_w\u001b[0m\u001b[1;33m(\u001b[0m\u001b[0ms\u001b[0m\u001b[1;33m,\u001b[0m \u001b[1;36m0\u001b[0m\u001b[1;33m)\u001b[0m\u001b[1;33m.\u001b[0m\u001b[0mend\u001b[0m\u001b[1;33m(\u001b[0m\u001b[1;33m)\u001b[0m\u001b[1;33m)\u001b[0m\u001b[1;33m\u001b[0m\u001b[1;33m\u001b[0m\u001b[0m\n\u001b[0m\u001b[0;32m    338\u001b[0m         \u001b[0mend\u001b[0m \u001b[1;33m=\u001b[0m \u001b[0m_w\u001b[0m\u001b[1;33m(\u001b[0m\u001b[0ms\u001b[0m\u001b[1;33m,\u001b[0m \u001b[0mend\u001b[0m\u001b[1;33m)\u001b[0m\u001b[1;33m.\u001b[0m\u001b[0mend\u001b[0m\u001b[1;33m(\u001b[0m\u001b[1;33m)\u001b[0m\u001b[1;33m\u001b[0m\u001b[1;33m\u001b[0m\u001b[0m\n",
      "\u001b[1;32m~\\Anaconda3\\lib\\json\\decoder.py\u001b[0m in \u001b[0;36mraw_decode\u001b[1;34m(self, s, idx)\u001b[0m\n\u001b[0;32m    354\u001b[0m         \u001b[1;32mexcept\u001b[0m \u001b[0mStopIteration\u001b[0m \u001b[1;32mas\u001b[0m \u001b[0merr\u001b[0m\u001b[1;33m:\u001b[0m\u001b[1;33m\u001b[0m\u001b[1;33m\u001b[0m\u001b[0m\n\u001b[1;32m--> 355\u001b[1;33m             \u001b[1;32mraise\u001b[0m \u001b[0mJSONDecodeError\u001b[0m\u001b[1;33m(\u001b[0m\u001b[1;34m\"Expecting value\"\u001b[0m\u001b[1;33m,\u001b[0m \u001b[0ms\u001b[0m\u001b[1;33m,\u001b[0m \u001b[0merr\u001b[0m\u001b[1;33m.\u001b[0m\u001b[0mvalue\u001b[0m\u001b[1;33m)\u001b[0m \u001b[1;32mfrom\u001b[0m \u001b[1;32mNone\u001b[0m\u001b[1;33m\u001b[0m\u001b[1;33m\u001b[0m\u001b[0m\n\u001b[0m\u001b[0;32m    356\u001b[0m         \u001b[1;32mreturn\u001b[0m \u001b[0mobj\u001b[0m\u001b[1;33m,\u001b[0m \u001b[0mend\u001b[0m\u001b[1;33m\u001b[0m\u001b[1;33m\u001b[0m\u001b[0m\n",
      "\u001b[1;31mJSONDecodeError\u001b[0m: Expecting value: line 1 column 1 (char 0)",
      "\nDuring handling of the above exception, another exception occurred:\n",
      "\u001b[1;31mRuntimeError\u001b[0m                              Traceback (most recent call last)",
      "\u001b[1;32m<timed exec>\u001b[0m in \u001b[0;36m<module>\u001b[1;34m\u001b[0m\n",
      "\u001b[1;32m<timed exec>\u001b[0m in \u001b[0;36m<listcomp>\u001b[1;34m(.0)\u001b[0m\n",
      "\u001b[1;32m~\\Anaconda3\\lib\\site-packages\\pymystem3\\mystem.py\u001b[0m in \u001b[0;36mlemmatize\u001b[1;34m(self, text)\u001b[0m\n\u001b[0;32m    263\u001b[0m         \u001b[0mneed_encode\u001b[0m \u001b[1;33m=\u001b[0m \u001b[1;33m(\u001b[0m\u001b[0msys\u001b[0m\u001b[1;33m.\u001b[0m\u001b[0mversion_info\u001b[0m\u001b[1;33m[\u001b[0m\u001b[1;36m0\u001b[0m\u001b[1;33m]\u001b[0m \u001b[1;33m<\u001b[0m \u001b[1;36m3\u001b[0m \u001b[1;32mand\u001b[0m \u001b[0misinstance\u001b[0m\u001b[1;33m(\u001b[0m\u001b[0mtext\u001b[0m\u001b[1;33m,\u001b[0m \u001b[0mstr\u001b[0m\u001b[1;33m)\u001b[0m\u001b[1;33m)\u001b[0m\u001b[1;33m\u001b[0m\u001b[1;33m\u001b[0m\u001b[0m\n\u001b[0;32m    264\u001b[0m \u001b[1;33m\u001b[0m\u001b[0m\n\u001b[1;32m--> 265\u001b[1;33m         \u001b[0minfos\u001b[0m \u001b[1;33m=\u001b[0m \u001b[0mself\u001b[0m\u001b[1;33m.\u001b[0m\u001b[0manalyze\u001b[0m\u001b[1;33m(\u001b[0m\u001b[0mtext\u001b[0m\u001b[1;33m)\u001b[0m\u001b[1;33m\u001b[0m\u001b[1;33m\u001b[0m\u001b[0m\n\u001b[0m\u001b[0;32m    266\u001b[0m         \u001b[0mlemmas\u001b[0m \u001b[1;33m=\u001b[0m \u001b[0mlist\u001b[0m\u001b[1;33m(\u001b[0m\u001b[0mfilter\u001b[0m\u001b[1;33m(\u001b[0m\u001b[1;32mNone\u001b[0m\u001b[1;33m,\u001b[0m \u001b[0mmap\u001b[0m\u001b[1;33m(\u001b[0m\u001b[0mself\u001b[0m\u001b[1;33m.\u001b[0m\u001b[0m_get_lemma\u001b[0m\u001b[1;33m,\u001b[0m \u001b[0minfos\u001b[0m\u001b[1;33m)\u001b[0m\u001b[1;33m)\u001b[0m\u001b[1;33m)\u001b[0m\u001b[1;33m\u001b[0m\u001b[1;33m\u001b[0m\u001b[0m\n\u001b[0;32m    267\u001b[0m \u001b[1;33m\u001b[0m\u001b[0m\n",
      "\u001b[1;32m~\\Anaconda3\\lib\\site-packages\\pymystem3\\mystem.py\u001b[0m in \u001b[0;36manalyze\u001b[1;34m(self, text)\u001b[0m\n\u001b[0;32m    248\u001b[0m         \u001b[0mresult\u001b[0m \u001b[1;33m=\u001b[0m \u001b[1;33m[\u001b[0m\u001b[1;33m]\u001b[0m\u001b[1;33m\u001b[0m\u001b[1;33m\u001b[0m\u001b[0m\n\u001b[0;32m    249\u001b[0m         \u001b[1;32mfor\u001b[0m \u001b[0mline\u001b[0m \u001b[1;32min\u001b[0m \u001b[0mtext\u001b[0m\u001b[1;33m.\u001b[0m\u001b[0msplitlines\u001b[0m\u001b[1;33m(\u001b[0m\u001b[1;33m)\u001b[0m\u001b[1;33m:\u001b[0m\u001b[1;33m\u001b[0m\u001b[1;33m\u001b[0m\u001b[0m\n\u001b[1;32m--> 250\u001b[1;33m             \u001b[0mresult\u001b[0m\u001b[1;33m.\u001b[0m\u001b[0mextend\u001b[0m\u001b[1;33m(\u001b[0m\u001b[0mself\u001b[0m\u001b[1;33m.\u001b[0m\u001b[0m_analyze_impl\u001b[0m\u001b[1;33m(\u001b[0m\u001b[0mline\u001b[0m\u001b[1;33m)\u001b[0m\u001b[1;33m)\u001b[0m\u001b[1;33m\u001b[0m\u001b[1;33m\u001b[0m\u001b[0m\n\u001b[0m\u001b[0;32m    251\u001b[0m         \u001b[1;32mreturn\u001b[0m \u001b[0mresult\u001b[0m\u001b[1;33m\u001b[0m\u001b[1;33m\u001b[0m\u001b[0m\n\u001b[0;32m    252\u001b[0m \u001b[1;33m\u001b[0m\u001b[0m\n",
      "\u001b[1;32m~\\Anaconda3\\lib\\site-packages\\pymystem3\\mystem.py\u001b[0m in \u001b[0;36m_analyze_impl\u001b[1;34m(self, text)\u001b[0m\n\u001b[0;32m    318\u001b[0m             \u001b[1;32mexcept\u001b[0m \u001b[1;33m(\u001b[0m\u001b[0mIOError\u001b[0m\u001b[1;33m,\u001b[0m \u001b[0mValueError\u001b[0m\u001b[1;33m)\u001b[0m\u001b[1;33m:\u001b[0m\u001b[1;33m\u001b[0m\u001b[1;33m\u001b[0m\u001b[0m\n\u001b[0;32m    319\u001b[0m                 raise RuntimeError(\"Problem has been occured. Current state:\\ntext:\\n%r\\nout:\\n%r\" %\n\u001b[1;32m--> 320\u001b[1;33m                                    (text, out))\n\u001b[0m\u001b[0;32m    321\u001b[0m \u001b[1;33m\u001b[0m\u001b[0m\n\u001b[0;32m    322\u001b[0m             \u001b[1;32mreturn\u001b[0m \u001b[0mobj\u001b[0m\u001b[1;33m\u001b[0m\u001b[1;33m\u001b[0m\u001b[0m\n",
      "\u001b[1;31mRuntimeError\u001b[0m: Problem has been occured. Current state:\ntext:\nb'888 '\nout:\nb''"
     ]
    }
   ],
   "source": [
    "%%time\n",
    "print('Очищаем NewSchool')\n",
    "newschool = [m.lemmatize(text) for text in newschool]"
   ]
  },
  {
   "cell_type": "code",
   "execution_count": null,
   "metadata": {},
   "outputs": [],
   "source": [
    "%%time\n",
    "print('Очищаем OldSchool')\n",
    "oldschool = [m.lemmatize(text) for text in oldschool]"
   ]
  },
  {
   "cell_type": "code",
   "execution_count": null,
   "metadata": {},
   "outputs": [],
   "source": [
    "#Сохраним очищенные данные\n",
    "with open('clear_wall/newschool.pickle', 'wb') as f:\n",
    "    pickle.dump(newschool, f)\n",
    "    \n",
    "with open('clear_wall/oldschool.pickle', 'wb') as f:\n",
    "    pickle.dump(oldschool, f)"
   ]
  },
  {
   "cell_type": "code",
   "execution_count": null,
   "metadata": {},
   "outputs": [],
   "source": []
  },
  {
   "cell_type": "code",
   "execution_count": null,
   "metadata": {},
   "outputs": [],
   "source": []
  },
  {
   "cell_type": "code",
   "execution_count": null,
   "metadata": {},
   "outputs": [],
   "source": []
  },
  {
   "cell_type": "code",
   "execution_count": null,
   "metadata": {},
   "outputs": [],
   "source": []
  },
  {
   "cell_type": "code",
   "execution_count": null,
   "metadata": {},
   "outputs": [],
   "source": []
  },
  {
   "cell_type": "code",
   "execution_count": null,
   "metadata": {},
   "outputs": [],
   "source": []
  }
 ],
 "metadata": {
  "kernelspec": {
   "display_name": "Python 3",
   "language": "python",
   "name": "python3"
  },
  "language_info": {
   "codemirror_mode": {
    "name": "ipython",
    "version": 3
   },
   "file_extension": ".py",
   "mimetype": "text/x-python",
   "name": "python",
   "nbconvert_exporter": "python",
   "pygments_lexer": "ipython3",
   "version": "3.7.4"
  }
 },
 "nbformat": 4,
 "nbformat_minor": 4
}
